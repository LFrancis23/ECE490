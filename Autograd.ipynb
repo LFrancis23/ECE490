{
  "cells": [
    {
      "cell_type": "markdown",
      "id": "bdbd6105",
      "metadata": {
        "id": "bdbd6105"
      },
      "source": [
        "Before you turn this problem in, make sure everything runs as expected. First, **restart the kernel** (in the menubar, select Kernel$\\rightarrow$Restart) and then **run all cells** (in the menubar, select Cell$\\rightarrow$Run All).\n",
        "\n",
        "Make sure you fill in any place that says `YOUR CODE HERE` or \"YOUR ANSWER HERE\", as well as your name and collaborators below:"
      ]
    },
    {
      "cell_type": "code",
      "execution_count": null,
      "id": "485ee97f",
      "metadata": {
        "id": "485ee97f"
      },
      "outputs": [],
      "source": [
        "NAME = \"\"\n",
        "COLLABORATORS = \"\""
      ]
    },
    {
      "cell_type": "markdown",
      "id": "00aaf514",
      "metadata": {
        "id": "00aaf514"
      },
      "source": [
        "---"
      ]
    },
    {
      "cell_type": "markdown",
      "id": "3f2e6881-a162-46b1-a493-ecfad9553614",
      "metadata": {
        "id": "3f2e6881-a162-46b1-a493-ecfad9553614"
      },
      "source": [
        "## Differentiation options\n",
        "\n",
        "1. Numerical differentiation\n",
        "2. Symbolic differentiation\n",
        "3. Automatic differentiation\n",
        "\n",
        "    1. Forward mode differentiation\n",
        "    2. Reverse mode differentiation"
      ]
    },
    {
      "cell_type": "markdown",
      "id": "aabad185-f9f8-4b89-b53b-7aec30410e49",
      "metadata": {
        "id": "aabad185-f9f8-4b89-b53b-7aec30410e49"
      },
      "source": [
        "### 1. Numerical differentiation"
      ]
    },
    {
      "cell_type": "markdown",
      "id": "dea41cae-1722-4d79-b61f-f7e5f2c87c3d",
      "metadata": {
        "id": "dea41cae-1722-4d79-b61f-f7e5f2c87c3d"
      },
      "source": [
        "### 2. Symbolic differentiation\n"
      ]
    },
    {
      "cell_type": "markdown",
      "id": "20e24844-2179-4f59-9311-0551ea4cb350",
      "metadata": {
        "id": "20e24844-2179-4f59-9311-0551ea4cb350"
      },
      "source": [
        "### 3. Automatic differentiation\n",
        "\n",
        "![image.png](attachment:83fb2c27-f8fd-4e05-a449-7231a3657819.png)"
      ]
    },
    {
      "cell_type": "markdown",
      "id": "e593b1ce-cd74-4beb-90c7-74c488446b05",
      "metadata": {
        "id": "e593b1ce-cd74-4beb-90c7-74c488446b05"
      },
      "source": [
        "#### 3.A Forward mode \n",
        "Example:\n",
        "$$ z = f(x_1, x_2) = x_1 x_2 + \\sin(x_1)$$"
      ]
    },
    {
      "cell_type": "markdown",
      "id": "a723389b-9736-4950-92e7-9663d601e01e",
      "metadata": {
        "id": "a723389b-9736-4950-92e7-9663d601e01e"
      },
      "source": [
        "#### 3.B Reverse mode\n",
        "\n",
        "Example:\n",
        "$$ z = f(x_1, x_2) = x_1 x_2 + \\sin(x_1)$$"
      ]
    },
    {
      "cell_type": "code",
      "execution_count": null,
      "id": "8403eebb-d032-4e59-ac09-7b6c78cc46de",
      "metadata": {
        "id": "8403eebb-d032-4e59-ac09-7b6c78cc46de"
      },
      "outputs": [],
      "source": [
        "import numpy as np\n",
        "class ForwardDiff:\n",
        "    def __init__(self, value, grad=None):\n",
        "        self.value = value\n",
        "        self.grad = np.zeros_like(value) if grad is None else grad\n",
        "        \n",
        "    \n",
        "    def __add__(self, other):\n",
        "        cls = type(self)\n",
        "        other = other if isinstance(other, cls) else cls(other)\n",
        "        out = cls(self.value + other.value, \n",
        "                    self.grad + other.grad)\n",
        "        return out\n",
        "    __radd__ = __add__\n",
        "    \n",
        "    def __repr__(self):\n",
        "        return f\"{self.__class__.__name__}(data={self.value}, grad={self.grad})\"\n",
        "x = ForwardDiff(2, 1)\n",
        "y = ForwardDiff(3, 0)\n",
        "\n",
        "f = x + y \n",
        "f"
      ]
    },
    {
      "cell_type": "code",
      "execution_count": null,
      "id": "434d39c5-db6f-4b1c-bdd1-1935b809ce96",
      "metadata": {
        "id": "434d39c5-db6f-4b1c-bdd1-1935b809ce96"
      },
      "outputs": [],
      "source": [
        "oldFD = ForwardDiff # Bad practice: do not do it\n",
        "class ForwardDiff(oldFD):\n",
        "    def __mul__(self, other):\n",
        "        cls = type(self)\n",
        "        other = other if isinstance(other, cls) else cls(other)\n",
        "        out = cls(self.value * other.value, \n",
        "                    other.value * self.grad+ \n",
        "                     self.value * other.grad)\n",
        "        return out\n",
        "    \n",
        "    __rmul__ = __mul__\n",
        "    \n",
        "x = ForwardDiff(2, 0)\n",
        "y = ForwardDiff(3, 1)\n",
        "\n",
        "f1 = x * y\n",
        "f2 = 2*x + 3*y + x*y\n",
        "f1, f2"
      ]
    },
    {
      "cell_type": "code",
      "execution_count": null,
      "id": "71bc47f4-b557-4971-9add-47b5159349ba",
      "metadata": {
        "id": "71bc47f4-b557-4971-9add-47b5159349ba"
      },
      "outputs": [],
      "source": [
        "oldFD = ForwardDiff # Bad practice: do not do it\n",
        "class ForwardDiff(oldFD):\n",
        "    def log(self):\n",
        "        cls = type(self)\n",
        "        return cls(np.log(self.value),\n",
        "                     1/self.value * self.grad)\n",
        "    def exp(self):\n",
        "        cls = type(self)\n",
        "        out_val = np.exp(self.value)\n",
        "        return cls(out_val,\n",
        "                     out_val * self.grad)\n",
        "    \n",
        "    def sin(self):\n",
        "        cls = type(self)\n",
        "        return cls(np.sin(self.value),\n",
        "                     np.cos(self.value) * self.grad)\n",
        "    \n",
        "    def cos(self):\n",
        "        cls = type(self)\n",
        "        return cls(np.cos(self.value),\n",
        "                    -np.sin(self.value) * self.grad)\n",
        "    \n",
        "    def __pow__(self, other):\n",
        "        cls = type(self)\n",
        "        other = other if isinstance(other, cls) else cls(other)\n",
        "        return (self.log() * other).exp()\n",
        "\n",
        "    def __neg__(self): # -self\n",
        "        return self * -1\n",
        "\n",
        "    def __sub__(self, other): # self - other\n",
        "        return self + (-other)\n",
        "\n",
        "    def __truediv__(self, other): # self / other\n",
        "        return self * other**-1\n",
        "\n",
        "    def __rtruediv__(self, other): # other / self\n",
        "        return other * self**-1\n",
        "\n",
        "    \n",
        "\n",
        "x = ForwardDiff(2, 1)\n",
        "y = ForwardDiff(3, 0)\n",
        "\n",
        "f = x**y\n",
        "f"
      ]
    },
    {
      "cell_type": "code",
      "execution_count": null,
      "id": "c809c246-7fd9-4f6d-9a6b-a94fe37b5b29",
      "metadata": {
        "id": "c809c246-7fd9-4f6d-9a6b-a94fe37b5b29"
      },
      "outputs": [],
      "source": [
        "import numpy as np\n",
        "def add_vjp(a, b, grad):\n",
        "    return grad, grad\n",
        "\n",
        "\n",
        "def no_parents_vjp(grad):\n",
        "    return (grad,)\n",
        "\n",
        "class ReverseDiff:\n",
        "    def __init__(self, value, parents=(), op='', vjp=no_parents_vjp):\n",
        "        self.value = value\n",
        "        self.parents = parents\n",
        "        self.op = op\n",
        "        self.vjp = vjp\n",
        "        self.grad = None\n",
        "\n",
        "    def backward(self, grad):\n",
        "        self.grad = grad\n",
        "        op_args = [p.value for p in self.parents]\n",
        "        grads = self.vjp(*op_args, grad)\n",
        "        for g, p in zip(grads, self.parents):\n",
        "            p.backward(g)\n",
        "    \n",
        "    def __add__(self, other):\n",
        "        cls = type(self)\n",
        "        other = other if isinstance(other, cls) else cls(other)\n",
        "        out = cls(self.value + other.value, \n",
        "                  parents=(self, other),\n",
        "                  op='+',\n",
        "                  vjp=add_vjp)\n",
        "        return out\n",
        "    \n",
        "    __radd__ = __add__\n",
        "    \n",
        "    def __repr__(self):\n",
        "        cls = type(self)\n",
        "        return f\"{cls.__name__}(value={self.value}, parents={self.parents}, op={self.op}, grad={self.grad})\"\n",
        "    \n",
        "x = ReverseDiff(2)\n",
        "y = ReverseDiff(3)\n",
        "\n",
        "f = x + y + 3\n",
        "f.backward(1)\n",
        "f\n",
        "x.grad, y.grad"
      ]
    },
    {
      "cell_type": "code",
      "execution_count": null,
      "id": "37437ff2-ab2c-4b02-8de6-bbca7dfa1a28",
      "metadata": {
        "id": "37437ff2-ab2c-4b02-8de6-bbca7dfa1a28"
      },
      "outputs": [],
      "source": [
        "oldRD = ReverseDiff # Bad practice: do not do it\n",
        "\n",
        "def mul_vjp(a, b, grad):\n",
        "    return grad * b, grad * a\n",
        "\n",
        "class ReverseDiff(oldRD):\n",
        "    def __mul__(self, other):\n",
        "        cls = type(self)\n",
        "        other = other if isinstance(other, cls) else cls(other)\n",
        "        out = cls(self.value * other.value,\n",
        "                 parents=(self, other),\n",
        "                 op='*',\n",
        "                 vjp=mul_vjp)\n",
        "        return out\n",
        "    \n",
        "    __rmul__ = __mul__\n",
        "    \n",
        "x = ReverseDiff(2)\n",
        "y = ReverseDiff(3)\n",
        "\n",
        "f1 = 5*x + 7* y\n",
        "f1.backward(1)\n",
        "x.grad, y.grad"
      ]
    },
    {
      "cell_type": "code",
      "execution_count": null,
      "id": "2138439b-4113-453c-a188-269c50a826d0",
      "metadata": {
        "id": "2138439b-4113-453c-a188-269c50a826d0"
      },
      "outputs": [],
      "source": [
        "f2 = x*y\n",
        "f2.backward(1)\n",
        "x.grad, y.grad"
      ]
    }
  ],
  "metadata": {
    "kernelspec": {
      "display_name": "Python 3 (ipykernel)",
      "language": "python",
      "name": "python3"
    },
    "language_info": {
      "codemirror_mode": {
        "name": "ipython",
        "version": 3
      },
      "file_extension": ".py",
      "mimetype": "text/x-python",
      "name": "python",
      "nbconvert_exporter": "python",
      "pygments_lexer": "ipython3",
      "version": "3.11.0"
    },
    "colab": {
      "provenance": []
    }
  },
  "nbformat": 4,
  "nbformat_minor": 5
}