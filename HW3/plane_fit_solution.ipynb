{
 "cells": [
  {
   "cell_type": "markdown",
   "id": "249c9b25",
   "metadata": {},
   "source": [
    "# Exercise 1 \n",
    "(10 marks)\n",
    "\n",
    "$\\newcommand{\\bfx}{\\mathbf{x}}\n",
    "\\newcommand{\\bfb}{\\mathbf{b}}$\n",
    "Find the minimum of the following function\n",
    "$$f(\\bfx) = \\bfx^\\top A^\\top A \\bfx + 2 \\bfb^\\top \\bfx + c$$"
   ]
  },
  {
   "cell_type": "markdown",
   "id": "0957dab0-6d81-4839-ba40-cf1154b5bc6e",
   "metadata": {
    "nbgrader": {
     "grade": true,
     "grade_id": "cell-be3d981bec8a49f9",
     "locked": false,
     "points": 10,
     "schema_version": 3,
     "solution": true,
     "task": false
    },
    "tags": []
   },
   "source": [
    "\n",
    "At the minimum point $\\bfx^*$, the vector derivative is zero\n",
    "\n",
    "$\\newcommand{\\p}{\\partial }$\n",
    "$\\newcommand{\\bfzero}{\\mathbf{0}}$\n",
    "$$ \\frac{\\p}{\\p \\bfx} f(\\bfx) |_{\\bfx^*} = \\bfzero^\\top$$\n",
    "$$\\implies 2{\\bfx^*}^\\top (A^\\top A) + 2\\bfb^\\top =  \\bfzero^\\top$$\n",
    "$$\\implies 2 (A^\\top A)^\\top\\bfx^* + 2\\bfb =  \\bfzero$$\n",
    "$$\\implies 2 (A^\\top A)\\bfx^* + 2\\bfb =  \\bfzero$$\n",
    "$$\\implies \\bfx^* = - (A^\\top A)^{-1}\\bfb $$\n",
    "\n",
    "The minimimum value is\n",
    "$$ f(\\bfx^*) = \\bfb^\\top (A^\\top A)^{-1}\\bfb - 2 \\bfb^\\top (A^\\top A)^{-1}\\bfb + c$$ \n",
    "$$ f(\\bfx^*) = - \\bfb^\\top (A^\\top A)^{-1}\\bfb + c$$ \n"
   ]
  },
  {
   "cell_type": "markdown",
   "id": "3bbe2b3e-8642-41cf-89ed-18b0bf25530e",
   "metadata": {},
   "source": [
    "## Exercise 2\n",
    "(10 marks)\n",
    "\n",
    "$\\newcommand{\\bfmu}{\\boldsymbol{\\mu}}$\n",
    "Find the minimum of the following function (assume $\\Sigma_1$ and $\\Sigma_2$ to be symmetric and positive semi-definite).\n",
    "$$f(\\bfx) = (\\bfx - \\bfmu_1)^\\top \\Sigma_1 (\\bfx - \\bfmu_1)\n",
    "+ (\\bfx - \\bfmu_2)^\\top \\Sigma_2 (\\bfx - \\bfmu_2) $$"
   ]
  },
  {
   "cell_type": "markdown",
   "id": "9ab86e2c-7508-4431-8bbe-dd1713fe4f1e",
   "metadata": {
    "nbgrader": {
     "grade": true,
     "grade_id": "cell-cb331ee9d8b9f9d8",
     "locked": false,
     "points": 10,
     "schema_version": 3,
     "solution": true,
     "task": false
    },
    "tags": []
   },
   "source": [
    "\n",
    "At the minimum point $\\bfx^*$, the vector derivative is zero\n",
    "\n",
    "$$ \\frac{\\p}{\\p \\bfx} f(\\bfx) |_{\\bfx^*} = \\bfzero^\\top$$\n",
    "$$\\implies 2 (\\bfx^* - \\bfmu_1)^\\top (\\Sigma_1^\\top+\\Sigma_1) + 2 (\\bfx^* - \\bfmu_2)^\\top (\\Sigma_2^\\top+\\Sigma_2) =  \\bfzero^\\top$$\n",
    "\n",
    "$$\\implies 2 (\\bfx^* - \\bfmu_1)^\\top \\Sigma_1 + 2 (\\bfx^* - \\bfmu_2)^\\top \\Sigma_2 =  \\bfzero^\\top$$\n",
    "\n",
    "Group the $\\bfx^*$ terms and the constant terms\n",
    "$$\\implies 2 {\\bfx^*}^\\top (\\Sigma_1 + \\Sigma_2) =   2 \\bfmu_1^\\top \\Sigma_1 + 2\\bfmu_2^\\top \\Sigma_2 $$\n",
    "\n",
    "Take the transpose and positive definite matrices are always invertible (use $\\Sigma_1^\\top = \\Sigma_1$ and $\\Sigma_2^\\top = \\Sigma_2$):\n",
    "$$\\implies \\bfx^* = (\\Sigma_1 + \\Sigma_2)^{-1} (\\Sigma_1 \\bfmu_1 + \\Sigma_2 \\bfmu_2)$$\n",
    "\n",
    "\n",
    "To get the minimum value, group the quadratic terms, liner terms and constant togther.\n",
    "$$f(\\bfx^*) = {\\bfx^*}^\\top (\\Sigma_1 + \\Sigma_2) \\bfx - 2 (\\bfmu_1^\\top  \\Sigma_1 + \\bfmu_2 \\Sigma_2) \\bfx\n",
    "+ \\bfmu_1^\\top \\Sigma_1 \\bfmu_1 + \\bfmu_2^\\top \\Sigma_2 \\bfmu_2 $$\n",
    "\n",
    "The minimum value is\n",
    "\n",
    "$$f(\\bfx^*) = - (\\bfmu_1^\\top  \\Sigma_1 + \\bfmu_2 \\Sigma_2) (\\Sigma_1 + \\Sigma_2)^{-1} (\\Sigma_1^\\top \\bfmu_1 + \\Sigma_2^\\top \\bfmu_2)\n",
    "+ \\bfmu_1^\\top \\Sigma_1 \\bfmu_1 + \\bfmu_2^\\top \\Sigma_2 \\bfmu_2 $$\n"
   ]
  },
  {
   "cell_type": "markdown",
   "id": "c0dfabd5-3b5c-44e6-820d-2682f77dbaef",
   "metadata": {},
   "source": [
    "## Exercise 3: Fit a plane to point cloud\n",
    "\n",
    "Least square fit in 2D fits a line to a given set of 2D points. This homework asks you to repeat the minimization procedure to find a plane that fits a 2D points. Below you are provided with helper code to load a point cloud, and visualize the points and the plane. Your task is to find the equation of plane that fits the point cloud. \n",
    "\n",
    "1. Show the math and derivation for your code\n",
    "2. Implement the code in python and numpy to find the coefficients of the equation of plane and write your answer in the space provided below. Submit this ipynb file to brightspace. (30 marks)"
   ]
  },
  {
   "cell_type": "code",
   "execution_count": 2,
   "id": "93d1c907-2613-4257-8893-e372925a093a",
   "metadata": {},
   "outputs": [
    {
     "name": "stdout",
     "output_type": "stream",
     "text": [
      "Requirement already satisfied: k3d in /home/vdhiman/.local/lib/python3.11/site-packages (2.15.2)\n",
      "Requirement already satisfied: ipywidgets<9.0.0,>=7.0.0 in /home/vdhiman/.local/miniconda3/envs/nbgrader/lib/python3.11/site-packages (from k3d) (8.0.4)\n",
      "Requirement already satisfied: msgpack in /home/vdhiman/.local/lib/python3.11/site-packages (from k3d) (1.0.4)\n",
      "Requirement already satisfied: numpy in /home/vdhiman/.local/miniconda3/envs/nbgrader/lib/python3.11/site-packages (from k3d) (1.24.1)\n",
      "Requirement already satisfied: traitlets in /home/vdhiman/.local/lib/python3.11/site-packages (from k3d) (5.9.0)\n",
      "Requirement already satisfied: traittypes in /home/vdhiman/.local/lib/python3.11/site-packages (from k3d) (0.2.1)\n",
      "Requirement already satisfied: ipykernel>=4.5.1 in /home/vdhiman/.local/miniconda3/envs/nbgrader/lib/python3.11/site-packages (from ipywidgets<9.0.0,>=7.0.0->k3d) (6.20.1)\n",
      "Requirement already satisfied: ipython>=6.1.0 in /home/vdhiman/.local/miniconda3/envs/nbgrader/lib/python3.11/site-packages (from ipywidgets<9.0.0,>=7.0.0->k3d) (8.8.0)\n",
      "Requirement already satisfied: widgetsnbextension~=4.0 in /home/vdhiman/.local/miniconda3/envs/nbgrader/lib/python3.11/site-packages (from ipywidgets<9.0.0,>=7.0.0->k3d) (4.0.5)\n",
      "Requirement already satisfied: jupyterlab-widgets~=3.0 in /home/vdhiman/.local/miniconda3/envs/nbgrader/lib/python3.11/site-packages (from ipywidgets<9.0.0,>=7.0.0->k3d) (3.0.5)\n",
      "Requirement already satisfied: comm>=0.1.1 in /home/vdhiman/.local/miniconda3/envs/nbgrader/lib/python3.11/site-packages (from ipykernel>=4.5.1->ipywidgets<9.0.0,>=7.0.0->k3d) (0.1.1)\n",
      "Requirement already satisfied: debugpy>=1.0 in /home/vdhiman/.local/miniconda3/envs/nbgrader/lib/python3.11/site-packages (from ipykernel>=4.5.1->ipywidgets<9.0.0,>=7.0.0->k3d) (1.6.5)\n",
      "Requirement already satisfied: jupyter-client>=6.1.12 in /home/vdhiman/.local/miniconda3/envs/nbgrader/lib/python3.11/site-packages (from ipykernel>=4.5.1->ipywidgets<9.0.0,>=7.0.0->k3d) (7.4.8)\n",
      "Requirement already satisfied: matplotlib-inline>=0.1 in /home/vdhiman/.local/miniconda3/envs/nbgrader/lib/python3.11/site-packages (from ipykernel>=4.5.1->ipywidgets<9.0.0,>=7.0.0->k3d) (0.1.6)\n",
      "Requirement already satisfied: nest-asyncio in /home/vdhiman/.local/miniconda3/envs/nbgrader/lib/python3.11/site-packages (from ipykernel>=4.5.1->ipywidgets<9.0.0,>=7.0.0->k3d) (1.5.6)\n",
      "Requirement already satisfied: packaging in /home/vdhiman/.local/miniconda3/envs/nbgrader/lib/python3.11/site-packages (from ipykernel>=4.5.1->ipywidgets<9.0.0,>=7.0.0->k3d) (22.0)\n",
      "Requirement already satisfied: psutil in /home/vdhiman/.local/miniconda3/envs/nbgrader/lib/python3.11/site-packages (from ipykernel>=4.5.1->ipywidgets<9.0.0,>=7.0.0->k3d) (5.9.4)\n",
      "Requirement already satisfied: pyzmq>=17 in /home/vdhiman/.local/miniconda3/envs/nbgrader/lib/python3.11/site-packages (from ipykernel>=4.5.1->ipywidgets<9.0.0,>=7.0.0->k3d) (24.0.1)\n",
      "Requirement already satisfied: tornado>=6.1 in /home/vdhiman/.local/miniconda3/envs/nbgrader/lib/python3.11/site-packages (from ipykernel>=4.5.1->ipywidgets<9.0.0,>=7.0.0->k3d) (6.2)\n",
      "Requirement already satisfied: backcall in /home/vdhiman/.local/miniconda3/envs/nbgrader/lib/python3.11/site-packages (from ipython>=6.1.0->ipywidgets<9.0.0,>=7.0.0->k3d) (0.2.0)\n",
      "Requirement already satisfied: decorator in /home/vdhiman/.local/miniconda3/envs/nbgrader/lib/python3.11/site-packages (from ipython>=6.1.0->ipywidgets<9.0.0,>=7.0.0->k3d) (5.1.1)\n",
      "Requirement already satisfied: jedi>=0.16 in /home/vdhiman/.local/miniconda3/envs/nbgrader/lib/python3.11/site-packages (from ipython>=6.1.0->ipywidgets<9.0.0,>=7.0.0->k3d) (0.18.2)\n",
      "Requirement already satisfied: pickleshare in /home/vdhiman/.local/miniconda3/envs/nbgrader/lib/python3.11/site-packages (from ipython>=6.1.0->ipywidgets<9.0.0,>=7.0.0->k3d) (0.7.5)\n",
      "Requirement already satisfied: prompt-toolkit<3.1.0,>=3.0.11 in /home/vdhiman/.local/miniconda3/envs/nbgrader/lib/python3.11/site-packages (from ipython>=6.1.0->ipywidgets<9.0.0,>=7.0.0->k3d) (3.0.36)\n",
      "Requirement already satisfied: pygments>=2.4.0 in /home/vdhiman/.local/miniconda3/envs/nbgrader/lib/python3.11/site-packages (from ipython>=6.1.0->ipywidgets<9.0.0,>=7.0.0->k3d) (2.14.0)\n",
      "Requirement already satisfied: stack-data in /home/vdhiman/.local/miniconda3/envs/nbgrader/lib/python3.11/site-packages (from ipython>=6.1.0->ipywidgets<9.0.0,>=7.0.0->k3d) (0.6.2)\n",
      "Requirement already satisfied: pexpect>4.3 in /home/vdhiman/.local/miniconda3/envs/nbgrader/lib/python3.11/site-packages (from ipython>=6.1.0->ipywidgets<9.0.0,>=7.0.0->k3d) (4.8.0)\n",
      "Requirement already satisfied: parso<0.9.0,>=0.8.0 in /home/vdhiman/.local/miniconda3/envs/nbgrader/lib/python3.11/site-packages (from jedi>=0.16->ipython>=6.1.0->ipywidgets<9.0.0,>=7.0.0->k3d) (0.8.3)\n",
      "Requirement already satisfied: entrypoints in /home/vdhiman/.local/miniconda3/envs/nbgrader/lib/python3.11/site-packages (from jupyter-client>=6.1.12->ipykernel>=4.5.1->ipywidgets<9.0.0,>=7.0.0->k3d) (0.4)\n",
      "Requirement already satisfied: jupyter-core>=4.9.2 in /home/vdhiman/.local/miniconda3/envs/nbgrader/lib/python3.11/site-packages (from jupyter-client>=6.1.12->ipykernel>=4.5.1->ipywidgets<9.0.0,>=7.0.0->k3d) (5.0.0)\n",
      "Requirement already satisfied: python-dateutil>=2.8.2 in /home/vdhiman/.local/miniconda3/envs/nbgrader/lib/python3.11/site-packages (from jupyter-client>=6.1.12->ipykernel>=4.5.1->ipywidgets<9.0.0,>=7.0.0->k3d) (2.8.2)\n",
      "Requirement already satisfied: ptyprocess>=0.5 in /home/vdhiman/.local/miniconda3/envs/nbgrader/lib/python3.11/site-packages (from pexpect>4.3->ipython>=6.1.0->ipywidgets<9.0.0,>=7.0.0->k3d) (0.7.0)\n",
      "Requirement already satisfied: wcwidth in /home/vdhiman/.local/miniconda3/envs/nbgrader/lib/python3.11/site-packages (from prompt-toolkit<3.1.0,>=3.0.11->ipython>=6.1.0->ipywidgets<9.0.0,>=7.0.0->k3d) (0.2.5)\n",
      "Requirement already satisfied: executing>=1.2.0 in /home/vdhiman/.local/miniconda3/envs/nbgrader/lib/python3.11/site-packages (from stack-data->ipython>=6.1.0->ipywidgets<9.0.0,>=7.0.0->k3d) (1.2.0)\n",
      "Requirement already satisfied: asttokens>=2.1.0 in /home/vdhiman/.local/miniconda3/envs/nbgrader/lib/python3.11/site-packages (from stack-data->ipython>=6.1.0->ipywidgets<9.0.0,>=7.0.0->k3d) (2.2.1)\n",
      "Requirement already satisfied: pure-eval in /home/vdhiman/.local/miniconda3/envs/nbgrader/lib/python3.11/site-packages (from stack-data->ipython>=6.1.0->ipywidgets<9.0.0,>=7.0.0->k3d) (0.2.2)\n",
      "Requirement already satisfied: six in /home/vdhiman/.local/miniconda3/envs/nbgrader/lib/python3.11/site-packages (from asttokens>=2.1.0->stack-data->ipython>=6.1.0->ipywidgets<9.0.0,>=7.0.0->k3d) (1.16.0)\n",
      "Requirement already satisfied: platformdirs in /home/vdhiman/.local/miniconda3/envs/nbgrader/lib/python3.11/site-packages (from jupyter-core>=4.9.2->jupyter-client>=6.1.12->ipykernel>=4.5.1->ipywidgets<9.0.0,>=7.0.0->k3d) (2.6.2)\n"
     ]
    }
   ],
   "source": [
    "#Comment after running this once\n",
    "!pip install --user k3d\n",
    "\n",
    "\n",
    "import k3d\n",
    "from k3d import matplotlib_color_maps\n",
    "\n",
    "def k3d_init_plot():\n",
    "    return k3d.plot(grid_visible=False,\n",
    "                    camera_auto_fit=True,\n",
    "                    camera_fov=30.0,\n",
    "                    background_color=0xffffff)\n",
    "\n",
    "def visualize_plane(pts, abc, k3dplt=None):\n",
    "    _k3dplt = k3dplt\n",
    "    k3dplt = k3d_init_plot() if k3dplt is None else k3dplt\n",
    "    a, b, c = abc\n",
    "    x = np.linspace(-1, 1, 100, dtype=np.float32)\n",
    "    y = np.linspace(0, 1, 100, dtype=np.float32)\n",
    "\n",
    "    x, y = np.meshgrid(x, y)\n",
    "    z = a*x + b*y + c\n",
    "    plt_surface = k3d.surface(z,\n",
    "                              xmin=-1, xmax=1,\n",
    "                              ymin=0, ymax=1,\n",
    "                              compression_level=9,\n",
    "                              wireframe=True,\n",
    "                              color_map=matplotlib_color_maps.Coolwarm_r,\n",
    "                              attribute=z, color_range=[-1, 0.5])\n",
    "    \n",
    "    k3dplt += plt_surface\n",
    "    visualize_points(pts, k3dplt=k3dplt)\n",
    "    if _k3dplt is None:\n",
    "        k3dplt.display()\n",
    "\n",
    "def visualize_points(pts, k3dplt=None):\n",
    "    _k3dplt = k3dplt\n",
    "    k3dplt = k3d_init_plot() if k3dplt is None else k3dplt\n",
    "    plt_points = k3d.points(pts,\n",
    "                            attribute=pts[:, 2], # use z coordinate to color\n",
    "                            point_size=0.005,\n",
    "                            shader=\"flat\",\n",
    "                            color_map=matplotlib_color_maps.Inferno)\n",
    "    k3dplt += plt_points\n",
    "    if _k3dplt is None:\n",
    "        k3dplt.display()"
   ]
  },
  {
   "cell_type": "code",
   "execution_count": 19,
   "id": "c665cb9f-cfe5-4388-a056-c4aae3854914",
   "metadata": {},
   "outputs": [
    {
     "name": "stdout",
     "output_type": "stream",
     "text": [
      "--2023-02-02 02:45:49--  https://github.com/wecacuee/ECE490-Neural-Networks/raw/master/notebooks/02-linear-models/table_top.npy\n",
      "Resolving github.com (github.com)... 140.82.113.3\n",
      "Connecting to github.com (github.com)|140.82.113.3|:443... connected.\n",
      "HTTP request sent, awaiting response... 302 Found\n",
      "Location: https://raw.githubusercontent.com/wecacuee/ECE490-Neural-Networks/master/notebooks/02-linear-models/table_top.npy [following]\n",
      "--2023-02-02 02:45:49--  https://raw.githubusercontent.com/wecacuee/ECE490-Neural-Networks/master/notebooks/02-linear-models/table_top.npy\n",
      "Resolving raw.githubusercontent.com (raw.githubusercontent.com)... 2606:50c0:8002::154, 2606:50c0:8000::154, 2606:50c0:8001::154, ...\n",
      "Connecting to raw.githubusercontent.com (raw.githubusercontent.com)|2606:50c0:8002::154|:443... connected.\n",
      "HTTP request sent, awaiting response... 200 OK\n",
      "Length: 3331712 (3.2M) [application/octet-stream]\n",
      "Saving to: ‘table_top.npy.1’\n",
      "\n",
      "table_top.npy.1     100%[===================>]   3.18M  11.7MB/s    in 0.3s    \n",
      "\n",
      "2023-02-02 02:45:49 (11.7 MB/s) - ‘table_top.npy.1’ saved [3331712/3331712]\n",
      "\n"
     ]
    },
    {
     "data": {
      "application/vnd.jupyter.widget-view+json": {
       "model_id": "14404daa748f44938b8d76f383ba5511",
       "version_major": 2,
       "version_minor": 0
      },
      "text/plain": [
       "Output()"
      ]
     },
     "metadata": {},
     "output_type": "display_data"
    },
    {
     "data": {
      "text/plain": [
       "(array([-1.0558e+00,  3.2414e-04, -1.8675e+00], dtype=float32),\n",
       " array([ 0.59304,  0.53329, -1.0252 ], dtype=float32))"
      ]
     },
     "execution_count": 19,
     "metadata": {},
     "output_type": "execute_result"
    }
   ],
   "source": [
    "import numpy as np\n",
    "!wget https://github.com/wecacuee/ECE490-Neural-Networks/raw/master/notebooks/02-linear-models/table_top.npy\n",
    "pts = np.load('table_top.npy').astype('float32') # Nx3\n",
    "visualize_points(pts)\n",
    "pts.min(axis=0), pts.max(axis=0)"
   ]
  },
  {
   "cell_type": "code",
   "execution_count": 17,
   "id": "e9071672-95a1-4a7e-be24-67e5f96ef78f",
   "metadata": {
    "nbgrader": {
     "grade": false,
     "grade_id": "cell-bb7ef5a91325977a",
     "locked": false,
     "schema_version": 3,
     "solution": true,
     "task": false
    },
    "tags": []
   },
   "outputs": [],
   "source": [
    "def plane_fit(pts):\n",
    "    ### BEGIN SOLUTION\n",
    "    # z = a x + b y + c\n",
    "    n = pts.shape[0]\n",
    "    bfz = pts[:, 2]\n",
    "    bfx = pts[:, :2]\n",
    "    bfX = np.hstack((pts[:, :2], np.ones((n,1))))\n",
    "    abc = np.linalg.inv(bfX.T @ bfX) @ (bfX.T @ bfz)\n",
    "    ### END SOLUTION\n",
    "    return abc"
   ]
  },
  {
   "cell_type": "code",
   "execution_count": 18,
   "id": "6d8ad9b7-8ba1-44ef-84df-b85ef8c49118",
   "metadata": {
    "nbgrader": {
     "grade": true,
     "grade_id": "cell-5b7358c1e61a4706",
     "locked": true,
     "points": 50,
     "schema_version": 3,
     "solution": false,
     "task": false
    },
    "tags": []
   },
   "outputs": [
    {
     "data": {
      "application/vnd.jupyter.widget-view+json": {
       "model_id": "bd00c5ce64f2488daa85afccd6c96489",
       "version_major": 2,
       "version_minor": 0
      },
      "text/plain": [
       "Output()"
      ]
     },
     "metadata": {},
     "output_type": "display_data"
    }
   ],
   "source": [
    "# Find abc such that z = a x + b y + c\n",
    "abc = plane_fit(pts)\n",
    "visualize_plane(pts, abc)\n",
    "assert np.abs(pts[:,2] - np.hstack((pts[:, :2], np.ones((pts.shape[0],1)))) @ abc).mean() < 0.4\n"
   ]
  }
 ],
 "metadata": {
  "kernelspec": {
   "display_name": "Python 3 (ipykernel)",
   "language": "python",
   "name": "python3"
  },
  "language_info": {
   "codemirror_mode": {
    "name": "ipython",
    "version": 3
   },
   "file_extension": ".py",
   "mimetype": "text/x-python",
   "name": "python",
   "nbconvert_exporter": "python",
   "pygments_lexer": "ipython3",
   "version": "3.10.9"
  }
 },
 "nbformat": 4,
 "nbformat_minor": 5
}
