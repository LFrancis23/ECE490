{
 "cells": [
  {
   "cell_type": "markdown",
   "id": "c67c20c9",
   "metadata": {},
   "source": [
    "Before you turn this problem in, make sure everything runs as expected. First, **restart the kernel** (in the menubar, select Kernel$\\rightarrow$Restart) and then **run all cells** (in the menubar, select Cell$\\rightarrow$Run All).\n",
    "\n",
    "Make sure you fill in any place that says `YOUR CODE HERE` or \"YOUR ANSWER HERE\", as well as your name and collaborators below:"
   ]
  },
  {
   "cell_type": "code",
   "execution_count": 1,
   "id": "9ecc16fa",
   "metadata": {},
   "outputs": [],
   "source": [
    "NAME = \"Landyn Francis\"\n",
    "COLLABORATORS = \"\""
   ]
  },
  {
   "cell_type": "markdown",
   "id": "5cf98b36",
   "metadata": {},
   "source": [
    "---"
   ]
  },
  {
   "cell_type": "markdown",
   "id": "0957dab0-6d81-4839-ba40-cf1154b5bc6e",
   "metadata": {},
   "source": [
    "# Exercise 1 \n",
    "(10 marks)\n",
    "\n",
    "$\\newcommand{\\bfx}{\\mathbf{x}}$\n",
    "$\\newcommand{\\bfb}{\\mathbf{b}}$\n",
    "Find the minimum of the following function\n",
    "$$f(\\bfx) = \\bfx^\\top A^\\top A \\bfx + 2 \\bfb^\\top \\bfx + c$$\n",
    "\n",
    "To find the minimum of $f(\\bfx)$, we must take the derivative, and set it equal to zero. \n",
    "$$f'(\\bfx) = 2A^\\top A \\bfx + 2\\bfb = 0$$\n",
    "Moving $\\bfb$ to the other side, we get the following:\n",
    "$$-\\bfb=A^\\top A\\bfx$$\n",
    "Because we cannot divide matrices, we must multiply by the inverse product to isolate $\\bfx$\n",
    "$$\\bfx=-(A^\\top A)^{-1}\\bfb$$\n",
    "\n",
    "To determine the minimum value, we must plug in $\\bfx$ into the original equation. Looking ahead, we will first caluclate $\\bfx^\\top$, as it must be plugged in as well.\n",
    "First, apply the multiplication transpose rule.\n",
    "$$\\bfx^\\top = -\\bfb^\\top((A^\\top A)^{-1})^{T}$$\n",
    "Then, apply the inner inverse and transpose.\n",
    "$$\\bfx^\\top = -\\bfb^\\top A^{-1}(A^\\top)^{-1}$$\n",
    "Plugging these values into $f(\\bfx)$ results in the following:\n",
    "$$f(\\bfx)|_{\\bfx} = (-\\bfb^\\top A^{-1} (A^\\top)^{-1}(A^\\top A)(-(A^\\top A)^{-1}\\bfb)+2\\bfb^\\top (-(A^\\top A)^{-1}\\bfb)+c$$\n",
    "After cancelling terms and simplifying, we get the following minimum value:\n",
    "$$f(\\bfx)_{min} = -\\bfb^\\top (A^\\top A)^{-1}\\bfb+c$$\n"
   ]
  },
  {
   "cell_type": "markdown",
   "id": "3bbe2b3e-8642-41cf-89ed-18b0bf25530e",
   "metadata": {},
   "source": [
    "## Exercise 2\n",
    "(10 marks)\n",
    "\n",
    "$\\newcommand{\\bfmu}{\\boldsymbol{\\mu}}$\n",
    "\n",
    "$\\newcommand{\\x}{\\mathbf{x}}$\n",
    "$\\newcommand{\\muone}{\\boldsymbol{\\mu_1}}$\n",
    "$\\newcommand{\\mutwo}{\\boldsymbol{\\mu_2}}$\n",
    "$\\newcommand{\\sigmaone}{\\boldsymbol{\\Sigma_1}}$\n",
    "$\\newcommand{\\sigmatwo}{\\boldsymbol{\\Sigma_2}}$\n",
    "$\\newcommand{\\inv}{^{-1}}$\n",
    "$\\newcommand{\\sigsum}{(\\sigmaone+\\sigmatwo)}$\n",
    "$\\newcommand{\\sigmusum}{(\\sigmaone\\muone+\\sigmatwo\\mutwo)}$\n",
    "$\\newcommand{\\tp}{^\\top}$\n",
    "$\\newcommand{\\xthalf}{(\\muone\\tp\\sigmaone+\\mutwo\\tp\\sigmatwo)}$\n",
    "\n",
    "Find the minimum of the following function (assume $\\Sigma_1$ and $\\Sigma_2$ to be positive semi-definite).\n",
    "$$f(\\bfx) = (\\bfx - \\bfmu_1)^\\top \\Sigma_1 (\\bfx - \\bfmu_1)\n",
    "+ (\\bfx - \\bfmu_2)^\\top \\Sigma_2 (\\bfx - \\bfmu_2) $$\n",
    "\n",
    "As with Exercise 1, to find the minimum we must first take the derivative, then set it equal to 0.\n",
    "If we define $\\mathbf{y} = \\x-\\muone$, then the following is clear:\n",
    "$$\\mathbf{y}^\\top \\sigmaone \\mathbf{y} = 2\\sigmaone \\mathbf{y}$$\n",
    "With this we can replace $\\mathbf{y}$ with $(\\x-\\muone)$, find $f'(\\x)$, and set it equal to 0.\n",
    "$$f'(\\x) = 2\\sigmaone(\\x-\\muone)+2\\sigmatwo(\\x-\\muone) = 0$$\n",
    "Dividing by 2, and distributing the $\\sigmaone$ and $\\sigmatwo$ through the equation, we get:\n",
    "$$0 = \\sigmaone\\x - \\sigmaone\\muone+\\sigmatwo\\x-\\sigmatwo\\mutwo$$\n",
    "Grouping like terms:\n",
    "$$\\sigmaone\\muone+\\sigmatwo\\mutwo = \\sigsum\\x$$\n",
    "Isolating x, we find the $\\x$ leading to the minimum value.\n",
    "$$\\x = \\sigsum\\inv \\sigmusum$$\n",
    "Again, we must find $\\x\\tp$, as it must be plugged in as well. Applying the transpose rule we get the following:\n",
    "$$\\x\\tp = \\sigmusum\\tp (\\sigsum\\tp)\\inv$$\n",
    "Because $\\sigmaone$ and $\\sigmatwo$ are symmetric positive semi-definite, we know that $\\sigmaone = \\sigmaone\\tp$ $\\sigmatwo = \\sigmatwo\\tp$. With this we can apply the addition transpose rule on each term.\n",
    "$$\\x\\tp = ((\\sigmaone\\muone)\\tp + (\\sigmatwo\\mutwo)\\tp) (\\sigmaone\\tp+\\sigmatwo\\tp)\\inv$$\n",
    "Finally, apply the multiplication transpose rule.\n",
    "$$\\x\\tp = (\\muone\\tp\\sigmaone+\\mutwo\\tp\\sigmatwo)\\sigsum\\inv$$\n",
    "Next, before we plug in $\\x$ and $\\x\\tp$ we must expand and factor $f(\\x)$, it expands to\n",
    "$$(\\x\\tp\\sigmaone\\x) - (\\x\\tp\\sigmaone\\muone) - (\\muone\\tp\\sigmaone\\x) + (\\muone\\tp\\sigmaone\\muone)$$ \n",
    "$$ + $$\n",
    "$$(\\x\\tp\\sigmatwo\\x) - (\\x\\tp\\sigmatwo\\mutwo) - (\\mutwo\\tp\\sigmatwo\\x) + (\\mutwo\\tp\\sigmatwo\\mutwo)$$\n",
    "The equation has been arranged so the factors are easier to see. Factoring out terms results in the simplified $f(\\x)$\n",
    "$$f(\\x) = (\\x\\tp\\sigsum\\x) - \\x\\tp\\sigmusum - (\\muone\\tp\\sigmaone+\\mutwo\\tp\\sigmatwo)\\x + \n",
    "(\\muone\\tp\\sigmaone\\muone) + (\\mutwo\\tp\\sigmatwo\\mutwo)$$\n",
    "Now we are ready to plug in $\\x$ and $\\x\\tp$, for clarity, each term will be placed on it's own line, and denoted by $t_n$\n",
    "$$f(\\x)|_{\\x} = $$\n",
    "$$t_1 = +(\\xthalf\\sigsum\\inv\\sigsum\\sigsum\\inv\\sigmusum)$$\n",
    "$t_1$ can be simplified to\n",
    "$$t_1 = +\\xthalf\\sigsum\\inv\\sigmusum$$\n",
    "$$t_2 = -\\xthalf\\sigsum\\inv\\sigmusum$$\n",
    "$$t_3 = -(\\muone\\tp\\sigmaone+\\mutwo\\tp\\sigmatwo)\\sigsum\\inv\\sigmusum $$\n",
    "$$t_4 = +(\\muone\\tp\\sigmaone\\muone)$$ \n",
    "$$t_5 = +(\\mutwo\\tp\\sigmatwo\\mutwo)$$\n",
    "It can be seen that $t_1,t_2$, and $t_3$ are equivalent, and therefore $a-a-a=-a$, and $t_4$, and $t_5$ cannot be simplified. This results in the final minimum value being equivalent to.\n",
    "$$min f(\\bfx) = -\\xthalf\\sigsum\\inv\\sigmusum+(\\muone\\tp\\sigmaone\\muone)+(\\mutwo\\tp\\sigmatwo\\mutwo)$$"
   ]
  },
  {
   "cell_type": "markdown",
   "id": "c0dfabd5-3b5c-44e6-820d-2682f77dbaef",
   "metadata": {},
   "source": [
    "## Exercise 3: Fit a plane to point cloud\n",
    "\n",
    "$\\newcommand{\\x}{\\mathbf{x}}$\n",
    "$\\newcommand{\\y}{\\mathbf{y}}$\n",
    "$\\newcommand{\\z}{\\mathbf{z}}$\n",
    "$\\newcommand{\\bzeta}{\\boldsymbol{\\zeta}}$\n",
    "\n",
    "\n",
    "\n",
    "\n",
    "Least square fit in 2D fits a line to a given set of 2D points. This homework asks you to repeat the minimization procedure to find a plane that fits a 2D points. Below you are provided with helper code to load a point cloud, and visualize the points and the plane. Your task is to find the equation of plane that fits the point cloud. \n",
    "\n",
    "1. Show the math and derivation for your code\n",
    "\n",
    "The easiest way to find the plane of best fit for a set of 3D points is to vectorize the equation and solve for the unknown values. Our base equation is as follows:\n",
    "$$z = ax+by+c$$\n",
    "We are given data in the form of 3D points with an x, y, and z value. \n",
    "We can vectorize this data, by creating vectors $\\x,\\y$, and $\\z$ such that the values of the vectors are equal to each x,y, and z point provided.\n",
    "$$\\x = \\begin{bmatrix} x_1 \\\\ x_2 \\\\ ... \\\\ x_n\\end{bmatrix}, \\y = \\begin{bmatrix} y_1 \\\\ y_2 \\\\ ... \\\\ y_n\\end{bmatrix}, \\z = \\begin{bmatrix} z_1 \\\\ z_2 \\\\ ... \\\\ z_n\\end{bmatrix}$$\n",
    "We can also define a column vector $\\bzeta$ for our vector of unknown values.\n",
    "$$\\bzeta = \\begin{bmatrix} a \\\\ b \\\\ c \\end{bmatrix}$$\n",
    "Next, we want our equation in the form $A\\mathbf{x}=\\mathbf{b}$, to do this, we can pack a matrix, $\\boldsymbol{\\Delta}$, with the $\\x$ and $\\y$ vectors, set $\\mathbf{x}$ equal to our $\\bzeta$ vector, and use $\\z$ as $\\mathbf{b}$. However, this would be multiplying an nx2 matrix with a 3x1 vector, which is not possible. To work around this, we must introduce a column of ones into $\\boldsymbol{\\Delta}$. This results in the following vectorized equation.\n",
    "$$\\boldsymbol{\\Delta}\\bzeta=\\z$$\n",
    "$$\\begin{bmatrix}x & y & (\\mathbb{1}_n)^\\top \\end{bmatrix} \\begin{bmatrix} a \\\\ b \\\\ c \\end{bmatrix} = \\z$$\n",
    "$$\\begin{bmatrix}x_1 & y_1 & 1 \\\\\n",
    "                 x_2 & y_2 & 1 \\\\\n",
    "                 ... & ... & ... \\\\\n",
    "                 x_n & y_n & 1 \\\\ \\end{bmatrix} \\begin{bmatrix} a \\\\ b \\\\ c \\end{bmatrix} = \\begin{bmatrix} z_1 \\\\ z_2 \\\\ ... \\\\ z_n \\end{bmatrix}$$\n",
    "Next we can solve for $\\bzeta$, the vector containing the coefficients a,b,c, that we need. Normally, we would take the inverse of $\\boldsymbol{\\Delta}$. However there are two reasons why the pseudo-inverse must be used. The first reason is that $\\boldsymbol{\\Delta}$ is not a square matrix, and therefore it is non-invertible. The second reason is the system is over-determined, which means we have more data points than is ultimately necessary to find the equation of a plane. Therefore, the pseudo inverse must be used. The pseudo inverse is defined as, $A^\\dagger = (A^\\top A)^{-1}A^\\top$. Using this we can solve for $\\bzeta$.\n",
    "$$\\bzeta = \\boldsymbol{\\Delta}^\\dagger \\z$$\n",
    "$\\bzeta$ is the vector of coefficients of the best fitting plane, so the final equation is as follows:\n",
    "$$\\begin{bmatrix} a \\\\ b \\\\ c \\end{bmatrix} = \\boldsymbol{\\Delta}^\\dagger \\z$$\n",
    "2. Implement the code in python and numpy to find the coefficients of the equation of plane and write your answer in the space provided below. Submit this ipynb file to brightspace. (30 marks)"
   ]
  },
  {
   "cell_type": "code",
   "execution_count": 2,
   "id": "93d1c907-2613-4257-8893-e372925a093a",
   "metadata": {},
   "outputs": [],
   "source": [
    "#Comment after running this once\n",
    "#!pip install --user k3d\n",
    "\n",
    "\n",
    "import k3d\n",
    "from k3d import matplotlib_color_maps\n",
    "\n",
    "def k3d_init_plot():\n",
    "    return k3d.plot(grid_visible=False,\n",
    "                    camera_auto_fit=True,\n",
    "                    camera_fov=30.0,\n",
    "                    background_color=0xffffff)\n",
    "\n",
    "def visualize_plane(pts, abc, k3dplt=None):\n",
    "    _k3dplt = k3dplt\n",
    "    k3dplt = k3d_init_plot() if k3dplt is None else k3dplt\n",
    "    a, b, c = abc\n",
    "    x = np.linspace(-1, 1, 100, dtype=np.float32)\n",
    "    y = np.linspace(0, 1, 100, dtype=np.float32)\n",
    "\n",
    "    x, y = np.meshgrid(x, y)\n",
    "    z = a*x + b*y + c\n",
    "    plt_surface = k3d.surface(z,\n",
    "                              xmin=-1, xmax=1,\n",
    "                              ymin=0, ymax=1,\n",
    "                              compression_level=9,\n",
    "                              wireframe=True,\n",
    "                              color_map=matplotlib_color_maps.Coolwarm_r,\n",
    "                              attribute=z, color_range=[-1, 0.5])\n",
    "    \n",
    "    k3dplt += plt_surface\n",
    "    visualize_points(pts, k3dplt=k3dplt)\n",
    "    if _k3dplt is None:\n",
    "        k3dplt.display()\n",
    "\n",
    "def visualize_points(pts, k3dplt=None):\n",
    "    _k3dplt = k3dplt\n",
    "    k3dplt = k3d_init_plot() if k3dplt is None else k3dplt\n",
    "    plt_points = k3d.points(pts,\n",
    "                            attribute=pts[:, 2], # use z coordinate to color\n",
    "                            point_size=0.005,\n",
    "                            shader=\"flat\",\n",
    "                            color_map=matplotlib_color_maps.Inferno)\n",
    "    k3dplt += plt_points\n",
    "    if _k3dplt is None:\n",
    "        k3dplt.display()"
   ]
  },
  {
   "cell_type": "code",
   "execution_count": 3,
   "id": "c665cb9f-cfe5-4388-a056-c4aae3854914",
   "metadata": {},
   "outputs": [
    {
     "data": {
      "application/vnd.jupyter.widget-view+json": {
       "model_id": "b59f0bb1de8a40fe817b935f35f73b1e",
       "version_major": 2,
       "version_minor": 0
      },
      "text/plain": [
       "Output()"
      ]
     },
     "metadata": {},
     "output_type": "display_data"
    },
    {
     "data": {
      "text/plain": [
       "(array([-1.0558e+00,  3.2414e-04, -1.8675e+00], dtype=float32),\n",
       " array([ 0.59304,  0.53329, -1.0252 ], dtype=float32))"
      ]
     },
     "execution_count": 3,
     "metadata": {},
     "output_type": "execute_result"
    }
   ],
   "source": [
    "import numpy as np\n",
    "#!wget https://github.com/wecacuee/ECE490-Neural-Networks/raw/master/notebooks/02-linear-models/table_top.npy\n",
    "pts = np.load('table_top.npy').astype('float32') # Nx3\n",
    "visualize_points(pts)\n",
    "pts.min(axis=0), pts.max(axis=0)"
   ]
  },
  {
   "cell_type": "code",
   "execution_count": 4,
   "id": "e9071672-95a1-4a7e-be24-67e5f96ef78f",
   "metadata": {
    "deletable": false,
    "nbgrader": {
     "cell_type": "code",
     "checksum": "61651267a87231e5f7c23637fc5092a2",
     "grade": false,
     "grade_id": "cell-bb7ef5a91325977a",
     "locked": false,
     "schema_version": 3,
     "solution": true,
     "task": false
    },
    "tags": []
   },
   "outputs": [],
   "source": [
    "def plane_fit(pts):\n",
    "    #Make a column vector out of the z values\n",
    "    b = pts[:,-1]\n",
    "    #Pack a matrix full of a column of x values, a column of y values, and a column of 1's\n",
    "    A = np.column_stack((pts[:,0],pts[:,1],np.ones_like(b)))\n",
    "    # abc = A(pseudo-inverse) multiplied by vector b.\n",
    "    abc = np.linalg.pinv(A)@b\n",
    "    return abc"
   ]
  },
  {
   "cell_type": "code",
   "execution_count": 5,
   "id": "6d8ad9b7-8ba1-44ef-84df-b85ef8c49118",
   "metadata": {
    "deletable": false,
    "editable": false,
    "nbgrader": {
     "cell_type": "code",
     "checksum": "f01d083c054d73867d459d3e6bee1e50",
     "grade": true,
     "grade_id": "cell-5b7358c1e61a4706",
     "locked": true,
     "points": 50,
     "schema_version": 3,
     "solution": false,
     "task": false
    },
    "tags": []
   },
   "outputs": [
    {
     "data": {
      "application/vnd.jupyter.widget-view+json": {
       "model_id": "dac5d1b1ed204fcbacfe4a611c6ffd0c",
       "version_major": 2,
       "version_minor": 0
      },
      "text/plain": [
       "Output()"
      ]
     },
     "metadata": {},
     "output_type": "display_data"
    }
   ],
   "source": [
    "# Find abc such that z = a x + b y + c\n",
    "abc = plane_fit(pts)\n",
    "visualize_plane(pts, abc)\n",
    "assert np.abs(pts[:,2] - np.hstack((pts[:, :2], np.ones((pts.shape[0],1)))) @ abc).mean() < 0.4\n"
   ]
  }
 ],
 "metadata": {
  "kernelspec": {
   "display_name": "Python 3 (ipykernel)",
   "language": "python",
   "name": "python3"
  },
  "language_info": {
   "codemirror_mode": {
    "name": "ipython",
    "version": 3
   },
   "file_extension": ".py",
   "mimetype": "text/x-python",
   "name": "python",
   "nbconvert_exporter": "python",
   "pygments_lexer": "ipython3",
   "version": "3.9.13"
  }
 },
 "nbformat": 4,
 "nbformat_minor": 5
}
