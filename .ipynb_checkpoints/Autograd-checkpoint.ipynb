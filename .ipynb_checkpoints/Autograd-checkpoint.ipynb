{
 "cells": [
  {
   "cell_type": "markdown",
   "id": "bdbd6105",
   "metadata": {
    "id": "bdbd6105"
   },
   "source": [
    "Before you turn this problem in, make sure everything runs as expected. First, **restart the kernel** (in the menubar, select Kernel$\\rightarrow$Restart) and then **run all cells** (in the menubar, select Cell$\\rightarrow$Run All).\n",
    "\n",
    "Make sure you fill in any place that says `YOUR CODE HERE` or \"YOUR ANSWER HERE\", as well as your name and collaborators below:"
   ]
  },
  {
   "cell_type": "code",
   "execution_count": null,
   "id": "485ee97f",
   "metadata": {
    "id": "485ee97f"
   },
   "outputs": [],
   "source": [
    "NAME = \"Landyn Francis\"\n",
    "COLLABORATORS = \"\""
   ]
  },
  {
   "cell_type": "markdown",
   "id": "00aaf514",
   "metadata": {
    "id": "00aaf514"
   },
   "source": [
    "---"
   ]
  },
  {
   "cell_type": "markdown",
   "id": "3f2e6881-a162-46b1-a493-ecfad9553614",
   "metadata": {
    "id": "3f2e6881-a162-46b1-a493-ecfad9553614"
   },
   "source": [
    "## Differentiation options\n",
    "\n",
    "1. Numerical differentiation\n",
    "2. Symbolic differentiation\n",
    "3. Automatic differentiation\n",
    "\n",
    "    1. Forward mode differentiation\n",
    "    2. Reverse mode differentiation"
   ]
  },
  {
   "cell_type": "markdown",
   "id": "aabad185-f9f8-4b89-b53b-7aec30410e49",
   "metadata": {
    "id": "aabad185-f9f8-4b89-b53b-7aec30410e49"
   },
   "source": [
    "### 1. Numerical differentiation"
   ]
  },
  {
   "cell_type": "markdown",
   "id": "dea41cae-1722-4d79-b61f-f7e5f2c87c3d",
   "metadata": {
    "id": "dea41cae-1722-4d79-b61f-f7e5f2c87c3d"
   },
   "source": [
    "### 2. Symbolic differentiation\n"
   ]
  },
  {
   "cell_type": "markdown",
   "id": "20e24844-2179-4f59-9311-0551ea4cb350",
   "metadata": {
    "id": "20e24844-2179-4f59-9311-0551ea4cb350"
   },
   "source": [
    "### 3. Automatic differentiation\n",
    "\n",
    "![image.png](attachment:83fb2c27-f8fd-4e05-a449-7231a3657819.png)"
   ]
  },
  {
   "cell_type": "markdown",
   "id": "e593b1ce-cd74-4beb-90c7-74c488446b05",
   "metadata": {
    "id": "e593b1ce-cd74-4beb-90c7-74c488446b05"
   },
   "source": [
    "#### 3.A Forward mode \n",
    "Example:\n",
    "$$ z = f(x_1, x_2) = x_1 x_2 + \\sin(x_1)$$"
   ]
  },
  {
   "cell_type": "code",
   "execution_count": 13,
   "id": "4b7dd625",
   "metadata": {},
   "outputs": [
    {
     "data": {
      "text/plain": [
       "(6.909297426825682, 2.5838531634528574)"
      ]
     },
     "execution_count": 13,
     "metadata": {},
     "output_type": "execute_result"
    }
   ],
   "source": [
    "import numpy as np\n",
    "class ForwardDiff:\n",
    "    def __init__(self,value, grad=0):\n",
    "        self.value = value\n",
    "        self.grad = grad\n",
    "        \n",
    "    def __add__(self,other):\n",
    "        cls = type(self)\n",
    "        other = other if isinstance(other, cls) else cls(other)\n",
    "        v2 = self.value + other.value\n",
    "        g2 = self.grad + other.grad\n",
    "        return ForwardDiff(v2,g2)\n",
    "    \n",
    "    def __mul__(self, other):\n",
    "        cls = type(self)\n",
    "        other = other if isinstance(other, cls) else cls(other)\n",
    "        out = cls(self.value * other.value, \n",
    "                    other.value * self.grad+ \n",
    "                     self.value * other.grad)\n",
    "        return out\n",
    "    \n",
    "    def sin(self):\n",
    "        cls = type(self)\n",
    "        return cls(np.sin(self.value),\n",
    "                     np.cos(self.value) * self.grad)\n",
    "    \n",
    "    def cos(self):\n",
    "        cls = type(self)\n",
    "        return cls(np.cos(self.value),\n",
    "                    -np.sin(self.value) * self.grad)\n",
    "    \n",
    "    #If we want derivative with respect to x, we set the grad field of the x part to 0, and y to 1\n",
    "x1 = ForwardDiff(2, grad=1) \n",
    "x2 = ForwardDiff(3, grad=0) \n",
    "f = x1*x2 + x1.sin()\n",
    "f.value, f.grad\n",
    "        "
   ]
  },
  {
   "cell_type": "markdown",
   "id": "a723389b-9736-4950-92e7-9663d601e01e",
   "metadata": {
    "id": "a723389b-9736-4950-92e7-9663d601e01e"
   },
   "source": [
    "#### 3.B Reverse mode\n",
    "\n",
    "Example:\n",
    "$$ z = f(x_1, x_2) = x_1 x_2 + \\sin(x_1)$$"
   ]
  },
  {
   "cell_type": "code",
   "execution_count": 1,
   "id": "8403eebb-d032-4e59-ac09-7b6c78cc46de",
   "metadata": {
    "id": "8403eebb-d032-4e59-ac09-7b6c78cc46de"
   },
   "outputs": [
    {
     "data": {
      "text/plain": [
       "ForwardDiff(data=5, grad=1)"
      ]
     },
     "execution_count": 1,
     "metadata": {},
     "output_type": "execute_result"
    }
   ],
   "source": [
    "import numpy as np\n",
    "class ForwardDiff:\n",
    "    def __init__(self, value, grad=None):\n",
    "        self.value = value\n",
    "        self.grad = np.zeros_like(value) if grad is None else grad\n",
    "        \n",
    "    \n",
    "    def __add__(self, other):\n",
    "        cls = type(self)\n",
    "        other = other if isinstance(other, cls) else cls(other)\n",
    "        out = cls(self.value + other.value, \n",
    "                    self.grad + other.grad)\n",
    "        return out\n",
    "    __radd__ = __add__\n",
    "    \n",
    "    def __repr__(self):\n",
    "        return f\"{self.__class__.__name__}(data={self.value}, grad={self.grad})\"\n",
    "x = ForwardDiff(2, 1)\n",
    "y = ForwardDiff(3, 0)\n",
    "\n",
    "f = x + y \n",
    "f"
   ]
  },
  {
   "cell_type": "code",
   "execution_count": 2,
   "id": "434d39c5-db6f-4b1c-bdd1-1935b809ce96",
   "metadata": {
    "id": "434d39c5-db6f-4b1c-bdd1-1935b809ce96"
   },
   "outputs": [
    {
     "data": {
      "text/plain": [
       "(ForwardDiff(data=6, grad=2), ForwardDiff(data=19, grad=5))"
      ]
     },
     "execution_count": 2,
     "metadata": {},
     "output_type": "execute_result"
    }
   ],
   "source": [
    "oldFD = ForwardDiff # Bad practice: do not do it\n",
    "class ForwardDiff(oldFD):\n",
    "    def __mul__(self, other):\n",
    "        cls = type(self)\n",
    "        other = other if isinstance(other, cls) else cls(other)\n",
    "        out = cls(self.value * other.value, \n",
    "                    other.value * self.grad+ \n",
    "                     self.value * other.grad)\n",
    "        return out\n",
    "    \n",
    "    __rmul__ = __mul__\n",
    "    \n",
    "x = ForwardDiff(2, 0)\n",
    "y = ForwardDiff(3, 1)\n",
    "\n",
    "f1 = x * y\n",
    "f2 = 2*x + 3*y + x*y\n",
    "f1, f2"
   ]
  },
  {
   "cell_type": "code",
   "execution_count": 3,
   "id": "71bc47f4-b557-4971-9add-47b5159349ba",
   "metadata": {
    "id": "71bc47f4-b557-4971-9add-47b5159349ba"
   },
   "outputs": [
    {
     "data": {
      "text/plain": [
       "ForwardDiff(data=7.999999999999998, grad=11.999999999999996)"
      ]
     },
     "execution_count": 3,
     "metadata": {},
     "output_type": "execute_result"
    }
   ],
   "source": [
    "oldFD = ForwardDiff # Bad practice: do not do it\n",
    "class ForwardDiff(oldFD):\n",
    "    def log(self):\n",
    "        cls = type(self)\n",
    "        return cls(np.log(self.value),\n",
    "                     1/self.value * self.grad)\n",
    "    def exp(self):\n",
    "        cls = type(self)\n",
    "        out_val = np.exp(self.value)\n",
    "        return cls(out_val,\n",
    "                     out_val * self.grad)\n",
    "    \n",
    "    def sin(self):\n",
    "        cls = type(self)\n",
    "        return cls(np.sin(self.value),\n",
    "                     np.cos(self.value) * self.grad)\n",
    "    \n",
    "    def cos(self):\n",
    "        cls = type(self)\n",
    "        return cls(np.cos(self.value),\n",
    "                    -np.sin(self.value) * self.grad)\n",
    "    \n",
    "    def __pow__(self, other):\n",
    "        cls = type(self)\n",
    "        other = other if isinstance(other, cls) else cls(other)\n",
    "        return (self.log() * other).exp()\n",
    "\n",
    "    def __neg__(self): # -self\n",
    "        return self * -1\n",
    "\n",
    "    def __sub__(self, other): # self - other\n",
    "        return self + (-other)\n",
    "\n",
    "    def __truediv__(self, other): # self / other\n",
    "        return self * other**-1\n",
    "\n",
    "    def __rtruediv__(self, other): # other / self\n",
    "        return other * self**-1\n",
    "\n",
    "    \n",
    "\n",
    "x = ForwardDiff(2, 1)\n",
    "y = ForwardDiff(3, 0)\n",
    "\n",
    "f = x**y\n",
    "f"
   ]
  },
  {
   "cell_type": "code",
   "execution_count": 15,
   "id": "efb96ee5",
   "metadata": {},
   "outputs": [
    {
     "ename": "NameError",
     "evalue": "name 'parents' is not defined",
     "output_type": "error",
     "traceback": [
      "\u001b[0;31m---------------------------------------------------------------------------\u001b[0m",
      "\u001b[0;31mNameError\u001b[0m                                 Traceback (most recent call last)",
      "\u001b[0;32m/tmp/ipykernel_16414/3534272261.py\u001b[0m in \u001b[0;36m<module>\u001b[0;34m\u001b[0m\n\u001b[1;32m     33\u001b[0m \u001b[0my\u001b[0m \u001b[0;34m=\u001b[0m \u001b[0mReverseDiff\u001b[0m\u001b[0;34m(\u001b[0m\u001b[0;36m3\u001b[0m\u001b[0;34m)\u001b[0m\u001b[0;34m\u001b[0m\u001b[0;34m\u001b[0m\u001b[0m\n\u001b[1;32m     34\u001b[0m \u001b[0mf\u001b[0m \u001b[0;34m=\u001b[0m \u001b[0mx\u001b[0m\u001b[0;34m+\u001b[0m\u001b[0my\u001b[0m\u001b[0;34m\u001b[0m\u001b[0;34m\u001b[0m\u001b[0m\n\u001b[0;32m---> 35\u001b[0;31m \u001b[0mf\u001b[0m\u001b[0;34m.\u001b[0m\u001b[0mbackward\u001b[0m\u001b[0;34m(\u001b[0m\u001b[0;36m1\u001b[0m\u001b[0;34m)\u001b[0m\u001b[0;34m\u001b[0m\u001b[0;34m\u001b[0m\u001b[0m\n\u001b[0m\u001b[1;32m     36\u001b[0m \u001b[0mx\u001b[0m\u001b[0;34m.\u001b[0m\u001b[0mgrad\u001b[0m\u001b[0;34m,\u001b[0m \u001b[0my\u001b[0m\u001b[0;34m.\u001b[0m\u001b[0mgrad\u001b[0m\u001b[0;34m\u001b[0m\u001b[0;34m\u001b[0m\u001b[0m\n",
      "\u001b[0;32m/tmp/ipykernel_16414/3534272261.py\u001b[0m in \u001b[0;36mbackward\u001b[0;34m(self, grad)\u001b[0m\n\u001b[1;32m     16\u001b[0m \u001b[0;34m\u001b[0m\u001b[0m\n\u001b[1;32m     17\u001b[0m     \u001b[0;32mdef\u001b[0m \u001b[0mbackward\u001b[0m\u001b[0;34m(\u001b[0m\u001b[0mself\u001b[0m\u001b[0;34m,\u001b[0m\u001b[0mgrad\u001b[0m\u001b[0;34m)\u001b[0m\u001b[0;34m:\u001b[0m\u001b[0;34m\u001b[0m\u001b[0;34m\u001b[0m\u001b[0m\n\u001b[0;32m---> 18\u001b[0;31m         \u001b[0mparent_value\u001b[0m \u001b[0;34m=\u001b[0m \u001b[0;34m[\u001b[0m\u001b[0mp\u001b[0m\u001b[0;34m.\u001b[0m\u001b[0mvalue\u001b[0m \u001b[0;32mfor\u001b[0m \u001b[0mp\u001b[0m \u001b[0;32min\u001b[0m \u001b[0mparents\u001b[0m\u001b[0;34m]\u001b[0m\u001b[0;34m\u001b[0m\u001b[0;34m\u001b[0m\u001b[0m\n\u001b[0m\u001b[1;32m     19\u001b[0m         \u001b[0mparent_grads\u001b[0m \u001b[0;34m=\u001b[0m \u001b[0mself\u001b[0m\u001b[0;34m.\u001b[0m\u001b[0mderiv\u001b[0m\u001b[0;34m(\u001b[0m\u001b[0;34m*\u001b[0m\u001b[0mparent_values\u001b[0m\u001b[0;34m,\u001b[0m\u001b[0mgrad\u001b[0m\u001b[0;34m)\u001b[0m\u001b[0;34m\u001b[0m\u001b[0;34m\u001b[0m\u001b[0m\n\u001b[1;32m     20\u001b[0m         \u001b[0;32mfor\u001b[0m \u001b[0mp\u001b[0m\u001b[0;34m,\u001b[0m\u001b[0mg2\u001b[0m \u001b[0;32min\u001b[0m \u001b[0mzip\u001b[0m\u001b[0;34m(\u001b[0m\u001b[0mself\u001b[0m\u001b[0;34m.\u001b[0m\u001b[0mparents\u001b[0m\u001b[0;34m,\u001b[0m \u001b[0mparent_grads\u001b[0m\u001b[0;34m)\u001b[0m\u001b[0;34m:\u001b[0m\u001b[0;34m\u001b[0m\u001b[0;34m\u001b[0m\u001b[0m\n",
      "\u001b[0;31mNameError\u001b[0m: name 'parents' is not defined"
     ]
    }
   ],
   "source": [
    "import numpy as np\n",
    "\n",
    "# vector jacobian product\n",
    "def add_deriv(a,b,grad):\n",
    "    return (grad, grad)\n",
    "\n",
    "def no_parent_deriv(grad):\n",
    "    return (grad)\n",
    "\n",
    "class ReverseDiff:\n",
    "    def __init__(self, value, parents = (), deriv=no_parent_deriv):\n",
    "        self.value = value\n",
    "        self.parents = parents\n",
    "        self.deriv = deriv\n",
    "        self.grad = None\n",
    "        \n",
    "    def backward(self,grad):\n",
    "        parent_value = [p.value for p in parents]\n",
    "        parent_grads = self.deriv(*parent_values,grad)\n",
    "        for p,g2 in zip(self.parents, parent_grads):\n",
    "            p.backward(g2)\n",
    "        \n",
    "        \n",
    "    def __add__(self,other):\n",
    "        v2 = self.value + other.value\n",
    "        return ReverseDiff(v2, parents=(self,other),deriv=add_deriv)\n",
    "    \n",
    "    def __repr__(self):\n",
    "        cls = type(self)\n",
    "        return f\"{cls.__name__}(value={self.value}, parents={self.parents}\"\n",
    "        \n",
    "x = ReverseDiff(2)\n",
    "y = ReverseDiff(3)\n",
    "f = x+y\n",
    "f.backward(1)\n",
    "x.grad, y.grad"
   ]
  },
  {
   "cell_type": "code",
   "execution_count": 4,
   "id": "c809c246-7fd9-4f6d-9a6b-a94fe37b5b29",
   "metadata": {
    "id": "c809c246-7fd9-4f6d-9a6b-a94fe37b5b29"
   },
   "outputs": [
    {
     "data": {
      "text/plain": [
       "(1, 1)"
      ]
     },
     "execution_count": 4,
     "metadata": {},
     "output_type": "execute_result"
    }
   ],
   "source": [
    "import numpy as np\n",
    "def add_vjp(a, b, grad):\n",
    "    return grad, grad\n",
    "\n",
    "\n",
    "def no_parents_vjp(grad):\n",
    "    return (grad,)\n",
    "\n",
    "class ReverseDiff:\n",
    "    def __init__(self, value, parents=(), op='', vjp=no_parents_vjp):\n",
    "        self.value = value\n",
    "        self.parents = parents\n",
    "        self.op = op\n",
    "        self.vjp = vjp\n",
    "        self.grad = None\n",
    "\n",
    "    def backward(self, grad):\n",
    "        self.grad = grad\n",
    "        op_args = [p.value for p in self.parents]\n",
    "        grads = self.vjp(*op_args, grad)\n",
    "        for g, p in zip(grads, self.parents):\n",
    "            p.backward(g)\n",
    "    \n",
    "    def __add__(self, other):\n",
    "        cls = type(self)\n",
    "        other = other if isinstance(other, cls) else cls(other)\n",
    "        out = cls(self.value + other.value, \n",
    "                  parents=(self, other),\n",
    "                  op='+',\n",
    "                  vjp=add_vjp)\n",
    "        return out\n",
    "    \n",
    "    __radd__ = __add__\n",
    "    \n",
    "    def __repr__(self):\n",
    "        cls = type(self)\n",
    "        return f\"{cls.__name__}(value={self.value}, parents={self.parents}, op={self.op}, grad={self.grad})\"\n",
    "    \n",
    "x = ReverseDiff(2)\n",
    "y = ReverseDiff(3)\n",
    "\n",
    "f = x + y + 3\n",
    "f.backward(1)\n",
    "f\n",
    "x.grad, y.grad"
   ]
  },
  {
   "cell_type": "code",
   "execution_count": 5,
   "id": "37437ff2-ab2c-4b02-8de6-bbca7dfa1a28",
   "metadata": {
    "id": "37437ff2-ab2c-4b02-8de6-bbca7dfa1a28"
   },
   "outputs": [
    {
     "data": {
      "text/plain": [
       "(5, 7)"
      ]
     },
     "execution_count": 5,
     "metadata": {},
     "output_type": "execute_result"
    }
   ],
   "source": [
    "oldRD = ReverseDiff # Bad practice: do not do it\n",
    "\n",
    "def mul_vjp(a, b, grad):\n",
    "    return grad * b, grad * a\n",
    "\n",
    "class ReverseDiff(oldRD):\n",
    "    def __mul__(self, other):\n",
    "        cls = type(self)\n",
    "        other = other if isinstance(other, cls) else cls(other)\n",
    "        out = cls(self.value * other.value,\n",
    "                 parents=(self, other),\n",
    "                 op='*',\n",
    "                 vjp=mul_vjp)\n",
    "        return out\n",
    "    \n",
    "    __rmul__ = __mul__\n",
    "    \n",
    "x = ReverseDiff(2)\n",
    "y = ReverseDiff(3)\n",
    "\n",
    "f1 = 5*x + 7* y\n",
    "f1.backward(1)\n",
    "x.grad, y.grad"
   ]
  },
  {
   "cell_type": "code",
   "execution_count": 6,
   "id": "2138439b-4113-453c-a188-269c50a826d0",
   "metadata": {
    "id": "2138439b-4113-453c-a188-269c50a826d0"
   },
   "outputs": [
    {
     "data": {
      "text/plain": [
       "(3, 2)"
      ]
     },
     "execution_count": 6,
     "metadata": {},
     "output_type": "execute_result"
    }
   ],
   "source": [
    "f2 = x*y\n",
    "f2.backward(1)\n",
    "x.grad, y.grad"
   ]
  }
 ],
 "metadata": {
  "colab": {
   "provenance": []
  },
  "kernelspec": {
   "display_name": "Python 3 (ipykernel)",
   "language": "python",
   "name": "python3"
  },
  "language_info": {
   "codemirror_mode": {
    "name": "ipython",
    "version": 3
   },
   "file_extension": ".py",
   "mimetype": "text/x-python",
   "name": "python",
   "nbconvert_exporter": "python",
   "pygments_lexer": "ipython3",
   "version": "3.9.13"
  }
 },
 "nbformat": 4,
 "nbformat_minor": 5
}
